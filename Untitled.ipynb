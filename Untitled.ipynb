{
 "cells": [
  {
   "cell_type": "markdown",
   "metadata": {
    "toc": true
   },
   "source": [
    "<h1>Table of Contents<span class=\"tocSkip\"></span></h1>\n",
    "<div class=\"toc\"><ul class=\"toc-item\"><li><span><a href=\"#Global-max-temperature-under-4-SSP-scenarios\" data-toc-modified-id=\"Global-max-temperature-under-4-SSP-scenarios-1\"><span class=\"toc-item-num\">1&nbsp;&nbsp;</span>Global max temperature under 4 <a href=\"https://climatedata.ca/resource/understanding-shared-socio-economic-pathways-ssps/\" target=\"_blank\">SSP</a> scenarios</a></span></li><li><span><a href=\"#Import-libraries\" data-toc-modified-id=\"Import-libraries-2\"><span class=\"toc-item-num\">2&nbsp;&nbsp;</span>Import libraries</a></span></li></ul></div>"
   ]
  },
  {
   "cell_type": "markdown",
   "metadata": {},
   "source": [
    "# Global max temperature under 4 [SSP](https://climatedata.ca/resource/understanding-shared-socio-economic-pathways-ssps/) scenarios"
   ]
  },
  {
   "cell_type": "markdown",
   "metadata": {},
   "source": [
    "We will use the [rasterio](https://rasterio.readthedocs.io/en/stable/intro.html) python package to read and process raster datasets. Rasterio is a highly useful module for raster processing which you can use for reading and writing several different raster formats in Python. Rasterio is based on [GDAL](https://gdal.org/index.html) and Python automatically registers all known GDAL drivers for reading supported formats when importing the module. Most common file formats include for example **TIFF** and **GeoTIFF**, **ASCII Grid** and **Erdas Imagine .img -files**."
   ]
  },
  {
   "cell_type": "markdown",
   "metadata": {},
   "source": [
    "Follow the documentation and install rasterio:  \n",
    "For easy installation, run `! pip install rasterio` in a code cell  \n",
    "For advanced installation, follow the instructions on [rasterio documentation](https://rasterio.readthedocs.io/en/stable/installation.html)"
   ]
  },
  {
   "cell_type": "code",
   "execution_count": null,
   "metadata": {},
   "outputs": [],
   "source": [
    "# Easy installation\n",
    "! pip install rasterio"
   ]
  },
  {
   "cell_type": "markdown",
   "metadata": {},
   "source": [
    "# Import libraries"
   ]
  },
  {
   "cell_type": "code",
   "execution_count": 1,
   "metadata": {
    "ExecuteTime": {
     "end_time": "2024-01-25T02:55:08.478052Z",
     "start_time": "2024-01-25T02:55:02.476843Z"
    }
   },
   "outputs": [],
   "source": [
    "import rasterio"
   ]
  },
  {
   "cell_type": "code",
   "execution_count": null,
   "metadata": {},
   "outputs": [],
   "source": []
  }
 ],
 "metadata": {
  "kernelspec": {
   "display_name": "wb1",
   "language": "python",
   "name": "wb1"
  },
  "language_info": {
   "codemirror_mode": {
    "name": "ipython",
    "version": 3
   },
   "file_extension": ".py",
   "mimetype": "text/x-python",
   "name": "python",
   "nbconvert_exporter": "python",
   "pygments_lexer": "ipython3",
   "version": "3.9.0"
  },
  "toc": {
   "base_numbering": 1,
   "nav_menu": {},
   "number_sections": true,
   "sideBar": true,
   "skip_h1_title": false,
   "title_cell": "Table of Contents",
   "title_sidebar": "Contents",
   "toc_cell": true,
   "toc_position": {},
   "toc_section_display": true,
   "toc_window_display": true
  }
 },
 "nbformat": 4,
 "nbformat_minor": 4
}
