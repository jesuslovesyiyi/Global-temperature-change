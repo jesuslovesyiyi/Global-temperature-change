{
 "cells": [
  {
   "cell_type": "markdown",
   "metadata": {
    "toc": true
   },
   "source": [
    "<h1>Table of Contents<span class=\"tocSkip\"></span></h1>\n",
    "<div class=\"toc\"><ul class=\"toc-item\"><li><span><a href=\"#Create-a-netCDF4.Dataset-object\" data-toc-modified-id=\"Create-a-netCDF4.Dataset-object-1\"><span class=\"toc-item-num\">1&nbsp;&nbsp;</span>Create a netCDF4.Dataset object</a></span></li><li><span><a href=\"#Access-a-netCDF-variable\" data-toc-modified-id=\"Access-a-netCDF-variable-2\"><span class=\"toc-item-num\">2&nbsp;&nbsp;</span>Access a netCDF variable</a></span></li><li><span><a href=\"#List-the-Dimensions\" data-toc-modified-id=\"List-the-Dimensions-3\"><span class=\"toc-item-num\">3&nbsp;&nbsp;</span>List the Dimensions</a></span></li></ul></div>"
   ]
  },
  {
   "cell_type": "code",
   "execution_count": 1,
   "metadata": {
    "ExecuteTime": {
     "end_time": "2024-02-06T01:54:53.633968Z",
     "start_time": "2024-02-06T01:54:51.048030Z"
    }
   },
   "outputs": [
    {
     "name": "stdout",
     "output_type": "stream",
     "text": [
      "Requirement already satisfied: netCDF4 in /opt/miniconda3/envs/wb1/lib/python3.9/site-packages (1.5.5.1)\n",
      "Requirement already satisfied: numpy>=1.9 in /opt/miniconda3/envs/wb1/lib/python3.9/site-packages (from netCDF4) (1.21.0)\n",
      "Requirement already satisfied: cftime in /opt/miniconda3/envs/wb1/lib/python3.9/site-packages (from netCDF4) (1.3.0)\n"
     ]
    }
   ],
   "source": [
    "! pip install netCDF4"
   ]
  },
  {
   "cell_type": "code",
   "execution_count": 2,
   "metadata": {
    "ExecuteTime": {
     "end_time": "2024-02-06T01:55:37.578603Z",
     "start_time": "2024-02-06T01:55:35.988517Z"
    }
   },
   "outputs": [],
   "source": [
    "import netCDF4"
   ]
  },
  {
   "cell_type": "markdown",
   "metadata": {},
   "source": [
    "# Create a netCDF4.Dataset object\n",
    "\n",
    "- **`f`** is an object, representing an open netCDF file.\n",
    "- printing the object gives you summary information.\n",
    "- the **`variables`** attribute of **`f`** is a dictionary containing netcdf variable objects."
   ]
  },
  {
   "cell_type": "code",
   "execution_count": 4,
   "metadata": {
    "ExecuteTime": {
     "end_time": "2024-02-06T02:04:32.687296Z",
     "start_time": "2024-02-06T02:04:32.682449Z"
    }
   },
   "outputs": [
    {
     "name": "stdout",
     "output_type": "stream",
     "text": [
      "<class 'netCDF4._netCDF4.Dataset'>\n",
      "root group (NETCDF3_CLASSIC data model, file format NETCDF3):\n",
      "    title: IPSL  model output prepared for IPCC Fourth Assessment SRES A2 experiment\n",
      "    institution: IPSL (Institut Pierre Simon Laplace, Paris, France)\n",
      "    source: IPSL-CM4_v1 (2003) : atmosphere : LMDZ (IPSL-CM4_IPCC, 96x71x19) ; ocean ORCA2 (ipsl_cm4_v1_8, 2x2L31); sea ice LIM (ipsl_cm4_v\n",
      "    contact: Sebastien Denvil, sebastien.denvil@ipsl.jussieu.fr\n",
      "    project_id: IPCC Fourth Assessment\n",
      "    table_id: Table O1 (13 November 2004)\n",
      "    experiment_id: SRES A2 experiment\n",
      "    realization: 1\n",
      "    cmor_version: 0.96\n",
      "    Conventions: CF-1.0\n",
      "    history: YYYY/MM/JJ: data generated; YYYY/MM/JJ+1 data transformed  At 16:37:23 on 01/11/2005, CMOR rewrote data to comply with CF standards and IPCC Fourth Assessment requirements\n",
      "    references: Dufresne et al, Journal of Climate, 2015, vol XX, p 136\n",
      "    comment: Test drive\n",
      "    dimensions(sizes): lon(180), lat(170), time(24), bnds(2)\n",
      "    variables(dimensions): float64 lon(lon), float64 lon_bnds(lon, bnds), float64 lat(lat), float64 lat_bnds(lat, bnds), float64 time(time), float64 time_bnds(time, bnds), float32 tos(time, lat, lon)\n",
      "    groups: \n"
     ]
    }
   ],
   "source": [
    "f = netCDF4.Dataset('tos_O1_2001-2002.nc', 'r')\n",
    "print(f)"
   ]
  },
  {
   "cell_type": "markdown",
   "metadata": {},
   "source": [
    "# Access a netCDF variable"
   ]
  },
  {
   "cell_type": "markdown",
   "metadata": {},
   "source": [
    "- variable objects stored by name in **`variables`** dict.\n",
    "- print the variable yields summary info (including all the attributes).\n",
    "- no actual data read yet (just have a reference to the variable object with metadata)."
   ]
  },
  {
   "cell_type": "code",
   "execution_count": 8,
   "metadata": {
    "ExecuteTime": {
     "end_time": "2024-02-06T02:55:57.547995Z",
     "start_time": "2024-02-06T02:55:57.544194Z"
    }
   },
   "outputs": [
    {
     "name": "stdout",
     "output_type": "stream",
     "text": [
      "<class 'netCDF4._netCDF4.Variable'>\n",
      "float32 tos(time, lat, lon)\n",
      "    standard_name: sea_surface_temperature\n",
      "    long_name: Sea Surface Temperature\n",
      "    units: K\n",
      "    cell_methods: time: mean (interval: 30 minutes)\n",
      "    _FillValue: 1e+20\n",
      "    missing_value: 1e+20\n",
      "    original_name: sosstsst\n",
      "    original_units: degC\n",
      "    history:  At   16:37:23 on 01/11/2005: CMOR altered the data in the following ways: added 2.73150E+02 to yield output units;  Cyclical dimension was output starting at a different lon;\n",
      "unlimited dimensions: time\n",
      "current shape = (24, 170, 180)\n",
      "filling on\n"
     ]
    }
   ],
   "source": [
    "sea_surf_temp = f.variables['tos']  # sea surface temperature variable\n",
    "print(sea_surf_temp)"
   ]
  },
  {
   "cell_type": "markdown",
   "metadata": {},
   "source": [
    "# List the Dimensions"
   ]
  },
  {
   "cell_type": "markdown",
   "metadata": {},
   "source": []
  }
 ],
 "metadata": {
  "kernelspec": {
   "display_name": "wb1",
   "language": "python",
   "name": "wb1"
  },
  "language_info": {
   "codemirror_mode": {
    "name": "ipython",
    "version": 3
   },
   "file_extension": ".py",
   "mimetype": "text/x-python",
   "name": "python",
   "nbconvert_exporter": "python",
   "pygments_lexer": "ipython3",
   "version": "3.9.0"
  },
  "toc": {
   "base_numbering": 1,
   "nav_menu": {},
   "number_sections": true,
   "sideBar": true,
   "skip_h1_title": false,
   "title_cell": "Table of Contents",
   "title_sidebar": "Contents",
   "toc_cell": true,
   "toc_position": {
    "height": "calc(100% - 180px)",
    "left": "10px",
    "top": "150px",
    "width": "165px"
   },
   "toc_section_display": true,
   "toc_window_display": true
  }
 },
 "nbformat": 4,
 "nbformat_minor": 4
}
