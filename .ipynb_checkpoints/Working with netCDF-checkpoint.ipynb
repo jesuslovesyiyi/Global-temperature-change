{
 "cells": [
  {
   "cell_type": "markdown",
   "metadata": {
    "toc": true
   },
   "source": [
    "<h1>Table of Contents<span class=\"tocSkip\"></span></h1>\n",
    "<div class=\"toc\"><ul class=\"toc-item\"><li><span><a href=\"#Import-libraries\" data-toc-modified-id=\"Import-libraries-1\"><span class=\"toc-item-num\">1&nbsp;&nbsp;</span>Import libraries</a></span></li><li><span><a href=\"#Create-a-netCDF4.Dataset-object\" data-toc-modified-id=\"Create-a-netCDF4.Dataset-object-2\"><span class=\"toc-item-num\">2&nbsp;&nbsp;</span>Create a netCDF4.Dataset object</a></span></li><li><span><a href=\"#Access-a-netCDF-variable\" data-toc-modified-id=\"Access-a-netCDF-variable-3\"><span class=\"toc-item-num\">3&nbsp;&nbsp;</span>Access a netCDF variable</a></span></li><li><span><a href=\"#List-the-Dimensions\" data-toc-modified-id=\"List-the-Dimensions-4\"><span class=\"toc-item-num\">4&nbsp;&nbsp;</span>List the Dimensions</a></span></li><li><span><a href=\"#What-is-the-sea-surface-temperature-at-50N,-140E?\" data-toc-modified-id=\"What-is-the-sea-surface-temperature-at-50N,-140E?-5\"><span class=\"toc-item-num\">5&nbsp;&nbsp;</span>What is the sea surface temperature at 50N, 140E?</a></span></li><li><span><a href=\"#Simple-visualization\" data-toc-modified-id=\"Simple-visualization-6\"><span class=\"toc-item-num\">6&nbsp;&nbsp;</span>Simple visualization</a></span></li><li><span><a href=\"#Closing-your-netCDF-file\" data-toc-modified-id=\"Closing-your-netCDF-file-7\"><span class=\"toc-item-num\">7&nbsp;&nbsp;</span>Closing your netCDF file</a></span></li></ul></div>"
   ]
  },
  {
   "cell_type": "code",
   "execution_count": 1,
   "metadata": {
    "ExecuteTime": {
     "end_time": "2024-02-06T05:15:33.817331Z",
     "start_time": "2024-02-06T05:15:33.815138Z"
    }
   },
   "outputs": [],
   "source": [
    "# Uncomment the line below and run this cell to install the numpy-financial package\n",
    "! pip install netCDF4"
   ]
  },
  {
   "cell_type": "markdown",
   "metadata": {},
   "source": [
    "# Import libraries"
   ]
  },
  {
   "cell_type": "code",
   "execution_count": 15,
   "metadata": {
    "ExecuteTime": {
     "end_time": "2024-02-06T20:57:49.138210Z",
     "start_time": "2024-02-06T20:57:49.135420Z"
    }
   },
   "outputs": [],
   "source": [
    "import numpy as np\n",
    "import netCDF4\n",
    "import warnings\n",
    "warnings.filterwarnings('ignore')"
   ]
  },
  {
   "cell_type": "markdown",
   "metadata": {},
   "source": [
    "# Create a netCDF4.Dataset object\n",
    "\n",
    "- **`f`** is an object, representing an open netCDF file.\n",
    "- printing the object gives you summary information.\n",
    "- the **`variables`** attribute of **`f`** is a dictionary containing netcdf variable objects."
   ]
  },
  {
   "cell_type": "code",
   "execution_count": 16,
   "metadata": {
    "ExecuteTime": {
     "end_time": "2024-02-06T20:59:09.132582Z",
     "start_time": "2024-02-06T20:59:09.115096Z"
    }
   },
   "outputs": [
    {
     "name": "stdout",
     "output_type": "stream",
     "text": [
      "<class 'netCDF4._netCDF4.Dataset'>\n",
      "root group (NETCDF3_CLASSIC data model, file format NETCDF3):\n",
      "    title: IPSL  model output prepared for IPCC Fourth Assessment SRES A2 experiment\n",
      "    institution: IPSL (Institut Pierre Simon Laplace, Paris, France)\n",
      "    source: IPSL-CM4_v1 (2003) : atmosphere : LMDZ (IPSL-CM4_IPCC, 96x71x19) ; ocean ORCA2 (ipsl_cm4_v1_8, 2x2L31); sea ice LIM (ipsl_cm4_v\n",
      "    contact: Sebastien Denvil, sebastien.denvil@ipsl.jussieu.fr\n",
      "    project_id: IPCC Fourth Assessment\n",
      "    table_id: Table O1 (13 November 2004)\n",
      "    experiment_id: SRES A2 experiment\n",
      "    realization: 1\n",
      "    cmor_version: 0.96\n",
      "    Conventions: CF-1.0\n",
      "    history: YYYY/MM/JJ: data generated; YYYY/MM/JJ+1 data transformed  At 16:37:23 on 01/11/2005, CMOR rewrote data to comply with CF standards and IPCC Fourth Assessment requirements\n",
      "    references: Dufresne et al, Journal of Climate, 2015, vol XX, p 136\n",
      "    comment: Test drive\n",
      "    dimensions(sizes): lon(180), lat(170), time(24), bnds(2)\n",
      "    variables(dimensions): float64 lon(lon), float64 lon_bnds(lon, bnds), float64 lat(lat), float64 lat_bnds(lat, bnds), float64 time(time), float64 time_bnds(time, bnds), float32 tos(time, lat, lon)\n",
      "    groups: \n"
     ]
    }
   ],
   "source": [
    "f = netCDF4.Dataset('tos_O1_2001-2002.nc', 'r')\n",
    "print(f)"
   ]
  },
  {
   "cell_type": "markdown",
   "metadata": {},
   "source": [
    "# Access a netCDF variable"
   ]
  },
  {
   "cell_type": "markdown",
   "metadata": {},
   "source": [
    "- variable objects stored by name in **`variables`** dict.\n",
    "- print the variable yields summary info (including all the attributes).\n",
    "- no actual data read yet (just have a reference to the variable object with metadata)."
   ]
  },
  {
   "cell_type": "code",
   "execution_count": 20,
   "metadata": {
    "ExecuteTime": {
     "end_time": "2024-02-06T21:04:12.109415Z",
     "start_time": "2024-02-06T21:04:12.104474Z"
    }
   },
   "outputs": [
    {
     "name": "stdout",
     "output_type": "stream",
     "text": [
      "<class 'netCDF4._netCDF4.Variable'>\n",
      "float32 tos(time, lat, lon)\n",
      "    standard_name: sea_surface_temperature\n",
      "    long_name: Sea Surface Temperature\n",
      "    units: K\n",
      "    cell_methods: time: mean (interval: 30 minutes)\n",
      "    _FillValue: 1e+20\n",
      "    missing_value: 1e+20\n",
      "    original_name: sosstsst\n",
      "    original_units: degC\n",
      "    history:  At   16:37:23 on 01/11/2005: CMOR altered the data in the following ways: added 2.73150E+02 to yield output units;  Cyclical dimension was output starting at a different lon;\n",
      "unlimited dimensions: time\n",
      "current shape = (24, 170, 180)\n",
      "filling on\n"
     ]
    }
   ],
   "source": [
    "sea_surf_temp = f.variables['tos']  # sea surface temperature variable\n",
    "print(sea_surf_temp)"
   ]
  },
  {
   "cell_type": "markdown",
   "metadata": {},
   "source": [
    "# List the Dimensions"
   ]
  },
  {
   "cell_type": "markdown",
   "metadata": {},
   "source": [
    "- All variables in a netCDF file have an associated shape, specified by a list of dimensions.\n",
    "- Let's list all the dimensions in this netCDF file."
   ]
  },
  {
   "cell_type": "code",
   "execution_count": 21,
   "metadata": {
    "ExecuteTime": {
     "end_time": "2024-02-06T21:05:10.583862Z",
     "start_time": "2024-02-06T21:05:10.579355Z"
    }
   },
   "outputs": [
    {
     "name": "stdout",
     "output_type": "stream",
     "text": [
      "<class 'netCDF4._netCDF4.Dimension'>: name = 'lon', size = 180\n",
      "<class 'netCDF4._netCDF4.Dimension'>: name = 'lat', size = 170\n",
      "<class 'netCDF4._netCDF4.Dimension'> (unlimited): name = 'time', size = 24\n",
      "<class 'netCDF4._netCDF4.Dimension'>: name = 'bnds', size = 2\n"
     ]
    }
   ],
   "source": [
    "for dname, d in f.dimensions.items():\n",
    "    print(d)"
   ]
  },
  {
   "cell_type": "markdown",
   "metadata": {},
   "source": [
    "Each variable has a **`dimensions`** and a **`shape`** attribute."
   ]
  },
  {
   "cell_type": "code",
   "execution_count": 22,
   "metadata": {
    "ExecuteTime": {
     "end_time": "2024-02-06T21:05:39.562857Z",
     "start_time": "2024-02-06T21:05:39.556428Z"
    }
   },
   "outputs": [
    {
     "data": {
      "text/plain": [
       "('time', 'lat', 'lon')"
      ]
     },
     "execution_count": 22,
     "metadata": {},
     "output_type": "execute_result"
    }
   ],
   "source": [
    "sea_surf_temp.dimensions"
   ]
  },
  {
   "cell_type": "code",
   "execution_count": 23,
   "metadata": {
    "ExecuteTime": {
     "end_time": "2024-02-06T21:05:49.204253Z",
     "start_time": "2024-02-06T21:05:49.201021Z"
    }
   },
   "outputs": [
    {
     "data": {
      "text/plain": [
       "(24, 170, 180)"
      ]
     },
     "execution_count": 23,
     "metadata": {},
     "output_type": "execute_result"
    }
   ],
   "source": [
    "sea_surf_temp.shape"
   ]
  },
  {
   "cell_type": "markdown",
   "metadata": {},
   "source": [
    "# What is the sea surface temperature at 50N, 140E?"
   ]
  },
  {
   "cell_type": "code",
   "execution_count": 24,
   "metadata": {
    "ExecuteTime": {
     "end_time": "2024-02-06T21:08:54.242956Z",
     "start_time": "2024-02-06T21:08:54.240435Z"
    }
   },
   "outputs": [],
   "source": [
    "lat = f.variables['lat']\n",
    "lon = f.variables['lon']"
   ]
  },
  {
   "cell_type": "code",
   "execution_count": 28,
   "metadata": {
    "ExecuteTime": {
     "end_time": "2024-02-06T21:10:52.194405Z",
     "start_time": "2024-02-06T21:10:52.185924Z"
    }
   },
   "outputs": [
    {
     "data": {
      "text/plain": [
       "(masked_array(data=[-79.5, -78.5, -77.5, -76.5, -75.5, -74.5, -73.5, -72.5,\n",
       "                    -71.5, -70.5, -69.5, -68.5, -67.5, -66.5, -65.5, -64.5,\n",
       "                    -63.5, -62.5, -61.5, -60.5, -59.5, -58.5, -57.5, -56.5,\n",
       "                    -55.5, -54.5, -53.5, -52.5, -51.5, -50.5, -49.5, -48.5,\n",
       "                    -47.5, -46.5, -45.5, -44.5, -43.5, -42.5, -41.5, -40.5,\n",
       "                    -39.5, -38.5, -37.5, -36.5, -35.5, -34.5, -33.5, -32.5,\n",
       "                    -31.5, -30.5, -29.5, -28.5, -27.5, -26.5, -25.5, -24.5,\n",
       "                    -23.5, -22.5, -21.5, -20.5, -19.5, -18.5, -17.5, -16.5,\n",
       "                    -15.5, -14.5, -13.5, -12.5, -11.5, -10.5,  -9.5,  -8.5,\n",
       "                     -7.5,  -6.5,  -5.5,  -4.5,  -3.5,  -2.5,  -1.5,  -0.5,\n",
       "                      0.5,   1.5,   2.5,   3.5,   4.5,   5.5,   6.5,   7.5,\n",
       "                      8.5,   9.5,  10.5,  11.5,  12.5,  13.5,  14.5,  15.5,\n",
       "                     16.5,  17.5,  18.5,  19.5,  20.5,  21.5,  22.5,  23.5,\n",
       "                     24.5,  25.5,  26.5,  27.5,  28.5,  29.5,  30.5,  31.5,\n",
       "                     32.5,  33.5,  34.5,  35.5,  36.5,  37.5,  38.5,  39.5,\n",
       "                     40.5,  41.5,  42.5,  43.5,  44.5,  45.5,  46.5,  47.5,\n",
       "                     48.5,  49.5,  50.5,  51.5,  52.5,  53.5,  54.5,  55.5,\n",
       "                     56.5,  57.5,  58.5,  59.5,  60.5,  61.5,  62.5,  63.5,\n",
       "                     64.5,  65.5,  66.5,  67.5,  68.5,  69.5,  70.5,  71.5,\n",
       "                     72.5,  73.5,  74.5,  75.5,  76.5,  77.5,  78.5,  79.5,\n",
       "                     80.5,  81.5,  82.5,  83.5,  84.5,  85.5,  86.5,  87.5,\n",
       "                     88.5,  89.5],\n",
       "              mask=False,\n",
       "        fill_value=1e+20),\n",
       " masked_array(data=[  1.,   3.,   5.,   7.,   9.,  11.,  13.,  15.,  17.,\n",
       "                     19.,  21.,  23.,  25.,  27.,  29.,  31.,  33.,  35.,\n",
       "                     37.,  39.,  41.,  43.,  45.,  47.,  49.,  51.,  53.,\n",
       "                     55.,  57.,  59.,  61.,  63.,  65.,  67.,  69.,  71.,\n",
       "                     73.,  75.,  77.,  79.,  81.,  83.,  85.,  87.,  89.,\n",
       "                     91.,  93.,  95.,  97.,  99., 101., 103., 105., 107.,\n",
       "                    109., 111., 113., 115., 117., 119., 121., 123., 125.,\n",
       "                    127., 129., 131., 133., 135., 137., 139., 141., 143.,\n",
       "                    145., 147., 149., 151., 153., 155., 157., 159., 161.,\n",
       "                    163., 165., 167., 169., 171., 173., 175., 177., 179.,\n",
       "                    181., 183., 185., 187., 189., 191., 193., 195., 197.,\n",
       "                    199., 201., 203., 205., 207., 209., 211., 213., 215.,\n",
       "                    217., 219., 221., 223., 225., 227., 229., 231., 233.,\n",
       "                    235., 237., 239., 241., 243., 245., 247., 249., 251.,\n",
       "                    253., 255., 257., 259., 261., 263., 265., 267., 269.,\n",
       "                    271., 273., 275., 277., 279., 281., 283., 285., 287.,\n",
       "                    289., 291., 293., 295., 297., 299., 301., 303., 305.,\n",
       "                    307., 309., 311., 313., 315., 317., 319., 321., 323.,\n",
       "                    325., 327., 329., 331., 333., 335., 337., 339., 341.,\n",
       "                    343., 345., 347., 349., 351., 353., 355., 357., 359.],\n",
       "              mask=False,\n",
       "        fill_value=1e+20))"
      ]
     },
     "execution_count": 28,
     "metadata": {},
     "output_type": "execute_result"
    }
   ],
   "source": [
    "latvals = lat[:]; lonvals = lon[:] # extract lat/lon values (in degrees) to numpy arrays\n",
    "latvals, lonvals"
   ]
  },
  {
   "cell_type": "code",
   "execution_count": 40,
   "metadata": {
    "ExecuteTime": {
     "end_time": "2024-02-06T21:25:08.458702Z",
     "start_time": "2024-02-06T21:25:08.454992Z"
    }
   },
   "outputs": [
    {
     "name": "stdout",
     "output_type": "stream",
     "text": [
      "129 69\n"
     ]
    }
   ],
   "source": [
    "lat_diff_sq = (latvals-50)**2\n",
    "lon_diff_sq = (lonvals-140)**2\n",
    "print(np.argmin(lat_diff_sq), np.argmin(lon_diff_sq))"
   ]
  },
  {
   "cell_type": "code",
   "execution_count": 41,
   "metadata": {
    "ExecuteTime": {
     "end_time": "2024-02-06T21:25:42.369644Z",
     "start_time": "2024-02-06T21:25:42.357588Z"
    }
   },
   "outputs": [
    {
     "data": {
      "text/plain": [
       "1e+20"
      ]
     },
     "execution_count": 41,
     "metadata": {},
     "output_type": "execute_result"
    }
   ],
   "source": [
    "sea_surf_temp[:].data[0, 129, 69]"
   ]
  },
  {
   "cell_type": "markdown",
   "metadata": {},
   "source": [
    "# Simple visualization"
   ]
  },
  {
   "cell_type": "code",
   "execution_count": 46,
   "metadata": {
    "ExecuteTime": {
     "end_time": "2024-02-06T21:27:04.830571Z",
     "start_time": "2024-02-06T21:27:04.681326Z"
    }
   },
   "outputs": [
    {
     "data": {
      "image/png": "[encoded data removed]",
      "text/plain": [
       "<Figure size 432x288 with 1 Axes>"
      ]
     },
     "metadata": {
      "needs_background": "light"
     },
     "output_type": "display_data"
    }
   ],
   "source": [
    "import matplotlib.pyplot as plt\n",
    "cs = plt.contourf(sea_surf_temp[23,:,:])"
   ]
  },
  {
   "cell_type": "markdown",
   "metadata": {},
   "source": [
    "# Closing your netCDF file"
   ]
  },
  {
   "cell_type": "markdown",
   "metadata": {},
   "source": [
    "It's good to close netCDF files, but not actually necessary when Dataset is open for read access only."
   ]
  },
  {
   "cell_type": "code",
   "execution_count": 13,
   "metadata": {
    "ExecuteTime": {
     "end_time": "2024-02-06T05:15:34.478590Z",
     "start_time": "2024-02-06T05:15:34.476796Z"
    }
   },
   "outputs": [],
   "source": [
    "# f.close()"
   ]
  },
  {
   "cell_type": "code",
   "execution_count": null,
   "metadata": {},
   "outputs": [],
   "source": []
  }
 ],
 "metadata": {
  "kernelspec": {
   "display_name": "wb1",
   "language": "python",
   "name": "wb1"
  },
  "language_info": {
   "codemirror_mode": {
    "name": "ipython",
    "version": 3
   },
   "file_extension": ".py",
   "mimetype": "text/x-python",
   "name": "python",
   "nbconvert_exporter": "python",
   "pygments_lexer": "ipython3",
   "version": "3.9.0"
  },
  "toc": {
   "base_numbering": 1,
   "nav_menu": {},
   "number_sections": true,
   "sideBar": true,
   "skip_h1_title": false,
   "title_cell": "Table of Contents",
   "title_sidebar": "Contents",
   "toc_cell": true,
   "toc_position": {
    "height": "calc(100% - 180px)",
    "left": "10px",
    "top": "150px",
    "width": "165px"
   },
   "toc_section_display": true,
   "toc_window_display": true
  }
 },
 "nbformat": 4,
 "nbformat_minor": 4
}
